{
 "cells": [
  {
   "cell_type": "markdown",
   "metadata": {},
   "source": [
    "**Imports**"
   ]
  },
  {
   "cell_type": "code",
   "execution_count": 5,
   "metadata": {},
   "outputs": [
    {
     "data": {
      "text/plain": [
       "<torch._C.Generator at 0x7f1fb9b068d0>"
      ]
     },
     "execution_count": 5,
     "metadata": {},
     "output_type": "execute_result"
    }
   ],
   "source": [
    "import matplotlib.pyplot as plt\n",
    "from tqdm import tqdm\n",
    "import pandas as pd\n",
    "import numpy as np\n",
    "import torch\n",
    "import time\n",
    "\n",
    "from libtransmul import compute_transmul_cpp, compute_transmul_cython\n",
    "\n",
    "torch.manual_seed(42)"
   ]
  },
  {
   "cell_type": "markdown",
   "metadata": {},
   "source": [
    "**General functions**"
   ]
  },
  {
   "cell_type": "code",
   "execution_count": 6,
   "metadata": {},
   "outputs": [],
   "source": [
    "#Generating random function\n",
    "def generate_random_matrix(size):\n",
    "    return np.random.rand(size, size)"
   ]
  },
  {
   "cell_type": "code",
   "execution_count": 7,
   "metadata": {},
   "outputs": [],
   "source": [
    "#Measuring time of a function\n",
    "def measure_time(func, *args):\n",
    "    start_time = time.time()\n",
    "    result = func(*args)\n",
    "    end_time = time.time()\n",
    "    return end_time - start_time, result"
   ]
  },
  {
   "cell_type": "markdown",
   "metadata": {},
   "source": [
    "**First comparisons with numpy**"
   ]
  },
  {
   "cell_type": "code",
   "execution_count": 8,
   "metadata": {},
   "outputs": [],
   "source": [
    "sizes = [100, 200, 500, 1000]\n",
    "cpp_times_mult = []\n",
    "numpy_times_mult = []\n",
    "cpp_times_transpose = []\n",
    "numpy_times_transpose = []"
   ]
  },
  {
   "cell_type": "code",
   "execution_count": 9,
   "metadata": {},
   "outputs": [],
   "source": [
    "def numpy_function(A, B):\n",
    "    result = np.dot(A, B)\n",
    "    result_transposed = np.transpose(result)\n",
    "    return result_transposed"
   ]
  },
  {
   "cell_type": "code",
   "execution_count": 12,
   "metadata": {},
   "outputs": [
    {
     "name": "stdout",
     "output_type": "stream",
     "text": [
      "Help on cython_function_or_method in module libtransmul:\n",
      "\n",
      "compute_transmul_cpp(A, B) -> 'FloatMatrix'\n",
      "\n"
     ]
    }
   ],
   "source": [
    "help(compute_transmul_cpp)"
   ]
  },
  {
   "cell_type": "code",
   "execution_count": 13,
   "metadata": {},
   "outputs": [
    {
     "name": "stdout",
     "output_type": "stream",
     "text": [
      "Help on cython_function_or_method in module libtransmul:\n",
      "\n",
      "compute_transmul_cython(A, B)\n",
      "\n"
     ]
    }
   ],
   "source": [
    "help(compute_transmul_cython)"
   ]
  },
  {
   "cell_type": "code",
   "execution_count": 16,
   "metadata": {},
   "outputs": [
    {
     "ename": "TypeError",
     "evalue": "a bytes-like object is required, not 'list'",
     "output_type": "error",
     "traceback": [
      "\u001b[0;31m---------------------------------------------------------------------------\u001b[0m",
      "\u001b[0;31mTypeError\u001b[0m                                 Traceback (most recent call last)",
      "Cell \u001b[0;32mIn[16], line 5\u001b[0m\n\u001b[1;32m      2\u001b[0m A \u001b[38;5;241m=\u001b[39m generate_random_matrix(size)\n\u001b[1;32m      3\u001b[0m B \u001b[38;5;241m=\u001b[39m generate_random_matrix(size)\n\u001b[0;32m----> 5\u001b[0m cpp_time, _ \u001b[38;5;241m=\u001b[39m \u001b[43mmeasure_time\u001b[49m\u001b[43m(\u001b[49m\u001b[43mcompute_transmul_cython\u001b[49m\u001b[43m,\u001b[49m\u001b[43m \u001b[49m\u001b[43mA\u001b[49m\u001b[38;5;241;43m.\u001b[39;49m\u001b[43mtolist\u001b[49m\u001b[43m(\u001b[49m\u001b[43m)\u001b[49m\u001b[43m,\u001b[49m\u001b[43m \u001b[49m\u001b[43mB\u001b[49m\u001b[38;5;241;43m.\u001b[39;49m\u001b[43mtolist\u001b[49m\u001b[43m(\u001b[49m\u001b[43m)\u001b[49m\u001b[43m)\u001b[49m\n\u001b[1;32m      6\u001b[0m cpp_times_mult\u001b[38;5;241m.\u001b[39mappend(cpp_time)\n\u001b[1;32m      8\u001b[0m numpy_time, _ \u001b[38;5;241m=\u001b[39m measure_time(numpy_function, A, B)\n",
      "Cell \u001b[0;32mIn[7], line 4\u001b[0m, in \u001b[0;36mmeasure_time\u001b[0;34m(func, *args)\u001b[0m\n\u001b[1;32m      2\u001b[0m \u001b[38;5;28;01mdef\u001b[39;00m \u001b[38;5;21mmeasure_time\u001b[39m(func, \u001b[38;5;241m*\u001b[39margs):\n\u001b[1;32m      3\u001b[0m     start_time \u001b[38;5;241m=\u001b[39m time\u001b[38;5;241m.\u001b[39mtime()\n\u001b[0;32m----> 4\u001b[0m     result \u001b[38;5;241m=\u001b[39m \u001b[43mfunc\u001b[49m\u001b[43m(\u001b[49m\u001b[38;5;241;43m*\u001b[39;49m\u001b[43margs\u001b[49m\u001b[43m)\u001b[49m\n\u001b[1;32m      5\u001b[0m     end_time \u001b[38;5;241m=\u001b[39m time\u001b[38;5;241m.\u001b[39mtime()\n\u001b[1;32m      6\u001b[0m     \u001b[38;5;28;01mreturn\u001b[39;00m end_time \u001b[38;5;241m-\u001b[39m start_time, result\n",
      "File \u001b[0;32m~/parallel_computing/interface.pyx:43\u001b[0m, in \u001b[0;36mlibtransmul.compute_transmul_cython\u001b[0;34m()\u001b[0m\n\u001b[1;32m     41\u001b[0m \n\u001b[1;32m     42\u001b[0m def compute_transmul_cython(A, B):\n\u001b[0;32m---> 43\u001b[0m     return transmul_cython(A, B)\n",
      "File \u001b[0;32m<stringsource>:663\u001b[0m, in \u001b[0;36mView.MemoryView.memoryview_cwrapper\u001b[0;34m()\u001b[0m\n",
      "File \u001b[0;32m<stringsource>:353\u001b[0m, in \u001b[0;36mView.MemoryView.memoryview.__cinit__\u001b[0;34m()\u001b[0m\n",
      "\u001b[0;31mTypeError\u001b[0m: a bytes-like object is required, not 'list'"
     ]
    }
   ],
   "source": [
    "for size in sizes:\n",
    "    A = generate_random_matrix(size)\n",
    "    B = generate_random_matrix(size)\n",
    "    \n",
    "    cpp_time, _ = measure_time(compute_transmul_cython, A.tolist(), B.tolist())\n",
    "    cpp_times_mult.append(cpp_time)\n",
    "    \n",
    "    numpy_time, _ = measure_time(numpy_function, A, B)\n",
    "    numpy_times_mult.append(numpy_time)"
   ]
  },
  {
   "cell_type": "code",
   "execution_count": null,
   "metadata": {},
   "outputs": [],
   "source": [
    "plt.figure(figsize=(14, 7))\n",
    "\n",
    "plt.plot(sizes, cpp_times_mult, label='C++ Operation')\n",
    "plt.plot(sizes, numpy_times_mult, label='NumPy Operation')\n",
    "plt.xlabel('Matrix Size')\n",
    "plt.ylabel('Time (s)')\n",
    "plt.legend()\n",
    "plt.title('Matrix Multiplication and Transposition Performance')\n",
    "\n",
    "\n",
    "plt.tight_layout()\n",
    "plt.show()"
   ]
  }
 ],
 "metadata": {
  "kernelspec": {
   "display_name": "base",
   "language": "python",
   "name": "python3"
  },
  "language_info": {
   "codemirror_mode": {
    "name": "ipython",
    "version": 3
   },
   "file_extension": ".py",
   "mimetype": "text/x-python",
   "name": "python",
   "nbconvert_exporter": "python",
   "pygments_lexer": "ipython3",
   "version": "3.12.2"
  }
 },
 "nbformat": 4,
 "nbformat_minor": 2
}
